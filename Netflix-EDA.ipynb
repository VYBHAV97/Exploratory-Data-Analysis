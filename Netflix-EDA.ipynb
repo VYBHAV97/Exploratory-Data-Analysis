{
 "cells": [
  {
   "cell_type": "code",
   "execution_count": 1,
   "id": "5032e800",
   "metadata": {
    "_cell_guid": "b1076dfc-b9ad-4769-8c92-a6c4dae69d19",
    "_uuid": "8f2839f25d086af736a60e9eeb907d3b93b6e0e5",
    "execution": {
     "iopub.execute_input": "2023-06-18T10:26:23.929811Z",
     "iopub.status.busy": "2023-06-18T10:26:23.929410Z",
     "iopub.status.idle": "2023-06-18T10:26:26.260096Z",
     "shell.execute_reply": "2023-06-18T10:26:26.258901Z"
    },
    "papermill": {
     "duration": 2.346149,
     "end_time": "2023-06-18T10:26:26.263194",
     "exception": false,
     "start_time": "2023-06-18T10:26:23.917045",
     "status": "completed"
    },
    "tags": []
   },
   "outputs": [],
   "source": [
    "import pandas as pd\n",
    "import numpy as np\n",
    "import matplotlib.pyplot as plt\n",
    "import seaborn as sns\n",
    "import plotly.express as px\n",
    "%matplotlib inline"
   ]
  },
  {
   "cell_type": "code",
   "execution_count": 2,
   "id": "de9f0488",
   "metadata": {
    "execution": {
     "iopub.execute_input": "2023-06-18T10:26:26.281454Z",
     "iopub.status.busy": "2023-06-18T10:26:26.281025Z",
     "iopub.status.idle": "2023-06-18T10:26:26.436786Z",
     "shell.execute_reply": "2023-06-18T10:26:26.435695Z"
    },
    "papermill": {
     "duration": 0.167967,
     "end_time": "2023-06-18T10:26:26.439343",
     "exception": false,
     "start_time": "2023-06-18T10:26:26.271376",
     "status": "completed"
    },
    "tags": []
   },
   "outputs": [],
   "source": [
    "data = pd.read_csv(\"/kaggle/input/netflix-shows/netflix_titles.csv\")"
   ]
  },
  {
   "cell_type": "code",
   "execution_count": 3,
   "id": "d0b8b01c",
   "metadata": {
    "execution": {
     "iopub.execute_input": "2023-06-18T10:26:26.456326Z",
     "iopub.status.busy": "2023-06-18T10:26:26.455886Z",
     "iopub.status.idle": "2023-06-18T10:26:26.493741Z",
     "shell.execute_reply": "2023-06-18T10:26:26.492402Z"
    },
    "papermill": {
     "duration": 0.049814,
     "end_time": "2023-06-18T10:26:26.496761",
     "exception": false,
     "start_time": "2023-06-18T10:26:26.446947",
     "status": "completed"
    },
    "tags": []
   },
   "outputs": [
    {
     "data": {
      "text/html": [
       "<div>\n",
       "<style scoped>\n",
       "    .dataframe tbody tr th:only-of-type {\n",
       "        vertical-align: middle;\n",
       "    }\n",
       "\n",
       "    .dataframe tbody tr th {\n",
       "        vertical-align: top;\n",
       "    }\n",
       "\n",
       "    .dataframe thead th {\n",
       "        text-align: right;\n",
       "    }\n",
       "</style>\n",
       "<table border=\"1\" class=\"dataframe\">\n",
       "  <thead>\n",
       "    <tr style=\"text-align: right;\">\n",
       "      <th></th>\n",
       "      <th>show_id</th>\n",
       "      <th>type</th>\n",
       "      <th>title</th>\n",
       "      <th>director</th>\n",
       "      <th>cast</th>\n",
       "      <th>country</th>\n",
       "      <th>date_added</th>\n",
       "      <th>release_year</th>\n",
       "      <th>rating</th>\n",
       "      <th>duration</th>\n",
       "      <th>listed_in</th>\n",
       "      <th>description</th>\n",
       "    </tr>\n",
       "  </thead>\n",
       "  <tbody>\n",
       "    <tr>\n",
       "      <th>0</th>\n",
       "      <td>s1</td>\n",
       "      <td>Movie</td>\n",
       "      <td>Dick Johnson Is Dead</td>\n",
       "      <td>Kirsten Johnson</td>\n",
       "      <td>NaN</td>\n",
       "      <td>United States</td>\n",
       "      <td>September 25, 2021</td>\n",
       "      <td>2020</td>\n",
       "      <td>PG-13</td>\n",
       "      <td>90 min</td>\n",
       "      <td>Documentaries</td>\n",
       "      <td>As her father nears the end of his life, filmm...</td>\n",
       "    </tr>\n",
       "    <tr>\n",
       "      <th>1</th>\n",
       "      <td>s2</td>\n",
       "      <td>TV Show</td>\n",
       "      <td>Blood &amp; Water</td>\n",
       "      <td>NaN</td>\n",
       "      <td>Ama Qamata, Khosi Ngema, Gail Mabalane, Thaban...</td>\n",
       "      <td>South Africa</td>\n",
       "      <td>September 24, 2021</td>\n",
       "      <td>2021</td>\n",
       "      <td>TV-MA</td>\n",
       "      <td>2 Seasons</td>\n",
       "      <td>International TV Shows, TV Dramas, TV Mysteries</td>\n",
       "      <td>After crossing paths at a party, a Cape Town t...</td>\n",
       "    </tr>\n",
       "    <tr>\n",
       "      <th>2</th>\n",
       "      <td>s3</td>\n",
       "      <td>TV Show</td>\n",
       "      <td>Ganglands</td>\n",
       "      <td>Julien Leclercq</td>\n",
       "      <td>Sami Bouajila, Tracy Gotoas, Samuel Jouy, Nabi...</td>\n",
       "      <td>NaN</td>\n",
       "      <td>September 24, 2021</td>\n",
       "      <td>2021</td>\n",
       "      <td>TV-MA</td>\n",
       "      <td>1 Season</td>\n",
       "      <td>Crime TV Shows, International TV Shows, TV Act...</td>\n",
       "      <td>To protect his family from a powerful drug lor...</td>\n",
       "    </tr>\n",
       "    <tr>\n",
       "      <th>3</th>\n",
       "      <td>s4</td>\n",
       "      <td>TV Show</td>\n",
       "      <td>Jailbirds New Orleans</td>\n",
       "      <td>NaN</td>\n",
       "      <td>NaN</td>\n",
       "      <td>NaN</td>\n",
       "      <td>September 24, 2021</td>\n",
       "      <td>2021</td>\n",
       "      <td>TV-MA</td>\n",
       "      <td>1 Season</td>\n",
       "      <td>Docuseries, Reality TV</td>\n",
       "      <td>Feuds, flirtations and toilet talk go down amo...</td>\n",
       "    </tr>\n",
       "    <tr>\n",
       "      <th>4</th>\n",
       "      <td>s5</td>\n",
       "      <td>TV Show</td>\n",
       "      <td>Kota Factory</td>\n",
       "      <td>NaN</td>\n",
       "      <td>Mayur More, Jitendra Kumar, Ranjan Raj, Alam K...</td>\n",
       "      <td>India</td>\n",
       "      <td>September 24, 2021</td>\n",
       "      <td>2021</td>\n",
       "      <td>TV-MA</td>\n",
       "      <td>2 Seasons</td>\n",
       "      <td>International TV Shows, Romantic TV Shows, TV ...</td>\n",
       "      <td>In a city of coaching centers known to train I...</td>\n",
       "    </tr>\n",
       "  </tbody>\n",
       "</table>\n",
       "</div>"
      ],
      "text/plain": [
       "  show_id     type                  title         director  \\\n",
       "0      s1    Movie   Dick Johnson Is Dead  Kirsten Johnson   \n",
       "1      s2  TV Show          Blood & Water              NaN   \n",
       "2      s3  TV Show              Ganglands  Julien Leclercq   \n",
       "3      s4  TV Show  Jailbirds New Orleans              NaN   \n",
       "4      s5  TV Show           Kota Factory              NaN   \n",
       "\n",
       "                                                cast        country  \\\n",
       "0                                                NaN  United States   \n",
       "1  Ama Qamata, Khosi Ngema, Gail Mabalane, Thaban...   South Africa   \n",
       "2  Sami Bouajila, Tracy Gotoas, Samuel Jouy, Nabi...            NaN   \n",
       "3                                                NaN            NaN   \n",
       "4  Mayur More, Jitendra Kumar, Ranjan Raj, Alam K...          India   \n",
       "\n",
       "           date_added  release_year rating   duration  \\\n",
       "0  September 25, 2021          2020  PG-13     90 min   \n",
       "1  September 24, 2021          2021  TV-MA  2 Seasons   \n",
       "2  September 24, 2021          2021  TV-MA   1 Season   \n",
       "3  September 24, 2021          2021  TV-MA   1 Season   \n",
       "4  September 24, 2021          2021  TV-MA  2 Seasons   \n",
       "\n",
       "                                           listed_in  \\\n",
       "0                                      Documentaries   \n",
       "1    International TV Shows, TV Dramas, TV Mysteries   \n",
       "2  Crime TV Shows, International TV Shows, TV Act...   \n",
       "3                             Docuseries, Reality TV   \n",
       "4  International TV Shows, Romantic TV Shows, TV ...   \n",
       "\n",
       "                                         description  \n",
       "0  As her father nears the end of his life, filmm...  \n",
       "1  After crossing paths at a party, a Cape Town t...  \n",
       "2  To protect his family from a powerful drug lor...  \n",
       "3  Feuds, flirtations and toilet talk go down amo...  \n",
       "4  In a city of coaching centers known to train I...  "
      ]
     },
     "execution_count": 3,
     "metadata": {},
     "output_type": "execute_result"
    }
   ],
   "source": [
    "data.head()"
   ]
  },
  {
   "cell_type": "code",
   "execution_count": 4,
   "id": "72bd7ab6",
   "metadata": {
    "execution": {
     "iopub.execute_input": "2023-06-18T10:26:26.513973Z",
     "iopub.status.busy": "2023-06-18T10:26:26.513542Z",
     "iopub.status.idle": "2023-06-18T10:26:26.528252Z",
     "shell.execute_reply": "2023-06-18T10:26:26.526984Z"
    },
    "papermill": {
     "duration": 0.026183,
     "end_time": "2023-06-18T10:26:26.530825",
     "exception": false,
     "start_time": "2023-06-18T10:26:26.504642",
     "status": "completed"
    },
    "tags": []
   },
   "outputs": [],
   "source": [
    "data = data.drop(columns = [\"show_id\"],axis = 1)"
   ]
  },
  {
   "cell_type": "code",
   "execution_count": 5,
   "id": "df139b5d",
   "metadata": {
    "execution": {
     "iopub.execute_input": "2023-06-18T10:26:26.548546Z",
     "iopub.status.busy": "2023-06-18T10:26:26.548118Z",
     "iopub.status.idle": "2023-06-18T10:26:26.585555Z",
     "shell.execute_reply": "2023-06-18T10:26:26.584084Z"
    },
    "papermill": {
     "duration": 0.050123,
     "end_time": "2023-06-18T10:26:26.588670",
     "exception": false,
     "start_time": "2023-06-18T10:26:26.538547",
     "status": "completed"
    },
    "tags": []
   },
   "outputs": [
    {
     "name": "stdout",
     "output_type": "stream",
     "text": [
      "<class 'pandas.core.frame.DataFrame'>\n",
      "RangeIndex: 8807 entries, 0 to 8806\n",
      "Data columns (total 11 columns):\n",
      " #   Column        Non-Null Count  Dtype \n",
      "---  ------        --------------  ----- \n",
      " 0   type          8807 non-null   object\n",
      " 1   title         8807 non-null   object\n",
      " 2   director      6173 non-null   object\n",
      " 3   cast          7982 non-null   object\n",
      " 4   country       7976 non-null   object\n",
      " 5   date_added    8797 non-null   object\n",
      " 6   release_year  8807 non-null   int64 \n",
      " 7   rating        8803 non-null   object\n",
      " 8   duration      8804 non-null   object\n",
      " 9   listed_in     8807 non-null   object\n",
      " 10  description   8807 non-null   object\n",
      "dtypes: int64(1), object(10)\n",
      "memory usage: 757.0+ KB\n"
     ]
    }
   ],
   "source": [
    "data.info()"
   ]
  },
  {
   "cell_type": "code",
   "execution_count": 6,
   "id": "72396114",
   "metadata": {
    "execution": {
     "iopub.execute_input": "2023-06-18T10:26:26.606940Z",
     "iopub.status.busy": "2023-06-18T10:26:26.605689Z",
     "iopub.status.idle": "2023-06-18T10:26:26.626856Z",
     "shell.execute_reply": "2023-06-18T10:26:26.625585Z"
    },
    "papermill": {
     "duration": 0.032661,
     "end_time": "2023-06-18T10:26:26.629301",
     "exception": false,
     "start_time": "2023-06-18T10:26:26.596640",
     "status": "completed"
    },
    "tags": []
   },
   "outputs": [
    {
     "data": {
      "text/html": [
       "<div>\n",
       "<style scoped>\n",
       "    .dataframe tbody tr th:only-of-type {\n",
       "        vertical-align: middle;\n",
       "    }\n",
       "\n",
       "    .dataframe tbody tr th {\n",
       "        vertical-align: top;\n",
       "    }\n",
       "\n",
       "    .dataframe thead th {\n",
       "        text-align: right;\n",
       "    }\n",
       "</style>\n",
       "<table border=\"1\" class=\"dataframe\">\n",
       "  <thead>\n",
       "    <tr style=\"text-align: right;\">\n",
       "      <th></th>\n",
       "      <th>release_year</th>\n",
       "    </tr>\n",
       "  </thead>\n",
       "  <tbody>\n",
       "    <tr>\n",
       "      <th>count</th>\n",
       "      <td>8807.000000</td>\n",
       "    </tr>\n",
       "    <tr>\n",
       "      <th>mean</th>\n",
       "      <td>2014.180198</td>\n",
       "    </tr>\n",
       "    <tr>\n",
       "      <th>std</th>\n",
       "      <td>8.819312</td>\n",
       "    </tr>\n",
       "    <tr>\n",
       "      <th>min</th>\n",
       "      <td>1925.000000</td>\n",
       "    </tr>\n",
       "    <tr>\n",
       "      <th>25%</th>\n",
       "      <td>2013.000000</td>\n",
       "    </tr>\n",
       "    <tr>\n",
       "      <th>50%</th>\n",
       "      <td>2017.000000</td>\n",
       "    </tr>\n",
       "    <tr>\n",
       "      <th>75%</th>\n",
       "      <td>2019.000000</td>\n",
       "    </tr>\n",
       "    <tr>\n",
       "      <th>max</th>\n",
       "      <td>2021.000000</td>\n",
       "    </tr>\n",
       "  </tbody>\n",
       "</table>\n",
       "</div>"
      ],
      "text/plain": [
       "       release_year\n",
       "count   8807.000000\n",
       "mean    2014.180198\n",
       "std        8.819312\n",
       "min     1925.000000\n",
       "25%     2013.000000\n",
       "50%     2017.000000\n",
       "75%     2019.000000\n",
       "max     2021.000000"
      ]
     },
     "execution_count": 6,
     "metadata": {},
     "output_type": "execute_result"
    }
   ],
   "source": [
    "data.describe()"
   ]
  },
  {
   "cell_type": "code",
   "execution_count": 7,
   "id": "3e49213b",
   "metadata": {
    "execution": {
     "iopub.execute_input": "2023-06-18T10:26:26.647049Z",
     "iopub.status.busy": "2023-06-18T10:26:26.646607Z",
     "iopub.status.idle": "2023-06-18T10:26:26.670905Z",
     "shell.execute_reply": "2023-06-18T10:26:26.669647Z"
    },
    "papermill": {
     "duration": 0.036184,
     "end_time": "2023-06-18T10:26:26.673359",
     "exception": false,
     "start_time": "2023-06-18T10:26:26.637175",
     "status": "completed"
    },
    "tags": []
   },
   "outputs": [
    {
     "data": {
      "text/plain": [
       "type               0\n",
       "title              0\n",
       "director        2634\n",
       "cast             825\n",
       "country          831\n",
       "date_added        10\n",
       "release_year       0\n",
       "rating             4\n",
       "duration           3\n",
       "listed_in          0\n",
       "description        0\n",
       "dtype: int64"
      ]
     },
     "execution_count": 7,
     "metadata": {},
     "output_type": "execute_result"
    }
   ],
   "source": [
    "#Check for missing values\n",
    "data.isnull().sum()"
   ]
  },
  {
   "cell_type": "code",
   "execution_count": 8,
   "id": "a967ef4b",
   "metadata": {
    "execution": {
     "iopub.execute_input": "2023-06-18T10:26:26.691471Z",
     "iopub.status.busy": "2023-06-18T10:26:26.691025Z",
     "iopub.status.idle": "2023-06-18T10:26:27.092641Z",
     "shell.execute_reply": "2023-06-18T10:26:27.091372Z"
    },
    "papermill": {
     "duration": 0.413913,
     "end_time": "2023-06-18T10:26:27.095423",
     "exception": false,
     "start_time": "2023-06-18T10:26:26.681510",
     "status": "completed"
    },
    "tags": []
   },
   "outputs": [
    {
     "data": {
      "text/plain": [
       "<Axes: >"
      ]
     },
     "execution_count": 8,
     "metadata": {},
     "output_type": "execute_result"
    },
    {
     "data": {
      "image/png": "[encoded data removed]",
      "text/plain": [
       "<Figure size 1000x500 with 1 Axes>"
      ]
     },
     "metadata": {},
     "output_type": "display_data"
    }
   ],
   "source": [
    "#Using Heat map\n",
    "import matplotlib\n",
    "matplotlib.rcParams['figure.figsize'] = (10,5)\n",
    "sns.heatmap(data.isnull(),yticklabels = False,cbar=False,cmap = 'viridis')"
   ]
  },
  {
   "cell_type": "code",
   "execution_count": 9,
   "id": "42a8a448",
   "metadata": {
    "execution": {
     "iopub.execute_input": "2023-06-18T10:26:27.115136Z",
     "iopub.status.busy": "2023-06-18T10:26:27.114687Z",
     "iopub.status.idle": "2023-06-18T10:26:27.140344Z",
     "shell.execute_reply": "2023-06-18T10:26:27.139172Z"
    },
    "papermill": {
     "duration": 0.038764,
     "end_time": "2023-06-18T10:26:27.142973",
     "exception": false,
     "start_time": "2023-06-18T10:26:27.104209",
     "status": "completed"
    },
    "tags": []
   },
   "outputs": [],
   "source": [
    "#Handling missing values\n",
    "data['director'] = data['director'].fillna(\"No Data Available\")\n",
    "data['cast'] = data['cast'].fillna(\"No Data Available\")\n",
    "data['country'] = data['country'].fillna(\"No Data Available\")\n",
    "data['date_added']=data['date_added'].fillna(data['date_added'].mode()[0])          \n",
    "data['rating']=data['rating'].fillna(data['rating'].mode()[0])      \n",
    "data['duration']=data['duration'].fillna('No Data Available')    "
   ]
  },
  {
   "cell_type": "code",
   "execution_count": 10,
   "id": "f1fae3cb",
   "metadata": {
    "execution": {
     "iopub.execute_input": "2023-06-18T10:26:27.162495Z",
     "iopub.status.busy": "2023-06-18T10:26:27.161518Z",
     "iopub.status.idle": "2023-06-18T10:26:27.168209Z",
     "shell.execute_reply": "2023-06-18T10:26:27.167333Z"
    },
    "papermill": {
     "duration": 0.019461,
     "end_time": "2023-06-18T10:26:27.170946",
     "exception": false,
     "start_time": "2023-06-18T10:26:27.151485",
     "status": "completed"
    },
    "tags": []
   },
   "outputs": [],
   "source": [
    "type_count = data['type'].value_counts()"
   ]
  },
  {
   "cell_type": "code",
   "execution_count": 11,
   "id": "766919d5",
   "metadata": {
    "execution": {
     "iopub.execute_input": "2023-06-18T10:26:27.190385Z",
     "iopub.status.busy": "2023-06-18T10:26:27.189628Z",
     "iopub.status.idle": "2023-06-18T10:26:27.325651Z",
     "shell.execute_reply": "2023-06-18T10:26:27.323959Z"
    },
    "papermill": {
     "duration": 0.150902,
     "end_time": "2023-06-18T10:26:27.330438",
     "exception": false,
     "start_time": "2023-06-18T10:26:27.179536",
     "status": "completed"
    },
    "tags": []
   },
   "outputs": [
    {
     "data": {
      "text/plain": [
       "([<matplotlib.patches.Wedge at 0x783d2c84cc10>,\n",
       "  <matplotlib.patches.Wedge at 0x783d2c84caf0>],\n",
       " [Text(-0.8264818406177522, 1.1669737645418996, 'Movie'),\n",
       "  Text(0.826481840617752, -1.1669737645418996, 'TV Show')],\n",
       " [Text(-0.4508082767005921, 0.6365311442955816, '69.62%'),\n",
       "  Text(0.450808276700592, -0.6365311442955817, '30.38%')])"
      ]
     },
     "execution_count": 11,
     "metadata": {},
     "output_type": "execute_result"
    },
    {
     "data": {
      "image/png": "[encoded data removed]",
      "text/plain": [
       "<Figure size 1000x500 with 1 Axes>"
      ]
     },
     "metadata": {},
     "output_type": "display_data"
    }
   ],
   "source": [
    "plt.pie(type_count.values,labels = type_count.index,autopct = '%1.2f%%',radius = 1.3)"
   ]
  },
  {
   "cell_type": "markdown",
   "id": "115dce2c",
   "metadata": {
    "papermill": {
     "duration": 0.013825,
     "end_time": "2023-06-18T10:26:27.358924",
     "exception": false,
     "start_time": "2023-06-18T10:26:27.345099",
     "status": "completed"
    },
    "tags": []
   },
   "source": [
    "Observation:\n",
    "\n",
    "Netflix has about 69.62% of movies and 30.38% TV Shows"
   ]
  },
  {
   "cell_type": "code",
   "execution_count": 12,
   "id": "1aa5bba7",
   "metadata": {
    "execution": {
     "iopub.execute_input": "2023-06-18T10:26:27.392301Z",
     "iopub.status.busy": "2023-06-18T10:26:27.391036Z",
     "iopub.status.idle": "2023-06-18T10:26:27.409361Z",
     "shell.execute_reply": "2023-06-18T10:26:27.408417Z"
    },
    "papermill": {
     "duration": 0.038535,
     "end_time": "2023-06-18T10:26:27.411981",
     "exception": false,
     "start_time": "2023-06-18T10:26:27.373446",
     "status": "completed"
    },
    "tags": []
   },
   "outputs": [],
   "source": [
    "data_duration = data[data['type']=='TV Show'][['type','duration']]\n",
    "data_duration = data_duration.groupby('duration').size().reset_index()\n",
    "data_duration = data_duration.rename(columns = {0:'duration_count'})"
   ]
  },
  {
   "cell_type": "code",
   "execution_count": 13,
   "id": "23446850",
   "metadata": {
    "execution": {
     "iopub.execute_input": "2023-06-18T10:26:27.432747Z",
     "iopub.status.busy": "2023-06-18T10:26:27.431529Z",
     "iopub.status.idle": "2023-06-18T10:26:27.805060Z",
     "shell.execute_reply": "2023-06-18T10:26:27.804067Z"
    },
    "papermill": {
     "duration": 0.386653,
     "end_time": "2023-06-18T10:26:27.807633",
     "exception": false,
     "start_time": "2023-06-18T10:26:27.420980",
     "status": "completed"
    },
    "tags": []
   },
   "outputs": [
    {
     "data": {
      "image/png": "[encoded data removed]",
      "text/plain": [
       "<Figure size 1600x800 with 1 Axes>"
      ]
     },
     "metadata": {},
     "output_type": "display_data"
    }
   ],
   "source": [
    "plt.figure(figsize=(16,8))\n",
    "sns.barplot(x = 'duration',y = 'duration_count',data = data_duration)\n",
    "plt.ylabel(\"Duration Count\")\n",
    "plt.xlabel(\"Duration\")\n",
    "plt.show()"
   ]
  },
  {
   "cell_type": "markdown",
   "id": "36d966e1",
   "metadata": {
    "papermill": {
     "duration": 0.00902,
     "end_time": "2023-06-18T10:26:27.826313",
     "exception": false,
     "start_time": "2023-06-18T10:26:27.817293",
     "status": "completed"
    },
    "tags": []
   },
   "source": [
    "Observation \n",
    "\n",
    "Most of the TV Shows in Netflix has only 1 Season"
   ]
  },
  {
   "cell_type": "code",
   "execution_count": 14,
   "id": "15494f9c",
   "metadata": {
    "execution": {
     "iopub.execute_input": "2023-06-18T10:26:27.847448Z",
     "iopub.status.busy": "2023-06-18T10:26:27.846760Z",
     "iopub.status.idle": "2023-06-18T10:26:27.858756Z",
     "shell.execute_reply": "2023-06-18T10:26:27.857815Z"
    },
    "papermill": {
     "duration": 0.025603,
     "end_time": "2023-06-18T10:26:27.861298",
     "exception": false,
     "start_time": "2023-06-18T10:26:27.835695",
     "status": "completed"
    },
    "tags": []
   },
   "outputs": [],
   "source": [
    "tvshow_produced = data[data['type']=='TV Show'][['type','country']]\n",
    "tvshow_produced = tvshow_produced.groupby(['country']).size().reset_index()\n",
    "tvshow_produced = tvshow_produced.sort_values(by=0,ascending = False)[0:10]"
   ]
  },
  {
   "cell_type": "code",
   "execution_count": 15,
   "id": "e9d227ac",
   "metadata": {
    "execution": {
     "iopub.execute_input": "2023-06-18T10:26:27.881791Z",
     "iopub.status.busy": "2023-06-18T10:26:27.881329Z",
     "iopub.status.idle": "2023-06-18T10:26:28.268499Z",
     "shell.execute_reply": "2023-06-18T10:26:28.267355Z"
    },
    "papermill": {
     "duration": 0.400587,
     "end_time": "2023-06-18T10:26:28.271188",
     "exception": false,
     "start_time": "2023-06-18T10:26:27.870601",
     "status": "completed"
    },
    "tags": []
   },
   "outputs": [
    {
     "data": {
      "image/png": "[encoded data removed]",
      "text/plain": [
       "<Figure size 1600x800 with 1 Axes>"
      ]
     },
     "metadata": {},
     "output_type": "display_data"
    }
   ],
   "source": [
    "plt.figure(figsize=(16,8))\n",
    "plt.title(\"Top 10 Countries with Highest Number of TV Shows Production\",fontsize=20)\n",
    "bar=sns.barplot(x=tvshow_produced[\"country\"],y=tvshow_produced[0])\n",
    "plt.ylabel(\"TV Shows Count\")\n",
    "plt.xlabel(\"Country\")\n",
    "plt.show()"
   ]
  },
  {
   "cell_type": "markdown",
   "id": "53d2e540",
   "metadata": {
    "papermill": {
     "duration": 0.009924,
     "end_time": "2023-06-18T10:26:28.291010",
     "exception": false,
     "start_time": "2023-06-18T10:26:28.281086",
     "status": "completed"
    },
    "tags": []
   },
   "source": [
    "Observation\n",
    "\n",
    "United States has produced more number of TV Shows"
   ]
  },
  {
   "cell_type": "code",
   "execution_count": 16,
   "id": "4cf8b8e6",
   "metadata": {
    "execution": {
     "iopub.execute_input": "2023-06-18T10:26:28.313211Z",
     "iopub.status.busy": "2023-06-18T10:26:28.312787Z",
     "iopub.status.idle": "2023-06-18T10:26:28.328199Z",
     "shell.execute_reply": "2023-06-18T10:26:28.326723Z"
    },
    "papermill": {
     "duration": 0.030005,
     "end_time": "2023-06-18T10:26:28.330985",
     "exception": false,
     "start_time": "2023-06-18T10:26:28.300980",
     "status": "completed"
    },
    "tags": []
   },
   "outputs": [],
   "source": [
    "movie_produced = data[data['type']=='Movie'][['type','country']]\n",
    "movie_produced = movie_produced.groupby(['country']).size().reset_index()\n",
    "movie_produced = movie_produced.sort_values(by=0,ascending = False)[0:10]"
   ]
  },
  {
   "cell_type": "code",
   "execution_count": 17,
   "id": "e3bb72ad",
   "metadata": {
    "execution": {
     "iopub.execute_input": "2023-06-18T10:26:28.353168Z",
     "iopub.status.busy": "2023-06-18T10:26:28.352743Z",
     "iopub.status.idle": "2023-06-18T10:26:28.727446Z",
     "shell.execute_reply": "2023-06-18T10:26:28.726641Z"
    },
    "papermill": {
     "duration": 0.388607,
     "end_time": "2023-06-18T10:26:28.729555",
     "exception": false,
     "start_time": "2023-06-18T10:26:28.340948",
     "status": "completed"
    },
    "tags": []
   },
   "outputs": [
    {
     "data": {
      "image/png": "[encoded data removed]",
      "text/plain": [
       "<Figure size 1600x800 with 1 Axes>"
      ]
     },
     "metadata": {},
     "output_type": "display_data"
    }
   ],
   "source": [
    "plt.figure(figsize=(16,8))\n",
    "plt.title(\"Top 10 Countries with Highest Number of Movies Production\",fontsize=20)\n",
    "bar=sns.barplot(x=movie_produced[\"country\"],y=movie_produced[0])\n",
    "plt.ylabel(\"Movies Count\")\n",
    "plt.xlabel(\"Country\")\n",
    "plt.show()"
   ]
  },
  {
   "cell_type": "markdown",
   "id": "bc1a1cbe",
   "metadata": {
    "papermill": {
     "duration": 0.01056,
     "end_time": "2023-06-18T10:26:28.750937",
     "exception": false,
     "start_time": "2023-06-18T10:26:28.740377",
     "status": "completed"
    },
    "tags": []
   },
   "source": [
    "Observation\n",
    "\n",
    "United States has produced more number of Movies"
   ]
  },
  {
   "cell_type": "code",
   "execution_count": 18,
   "id": "f0e85240",
   "metadata": {
    "execution": {
     "iopub.execute_input": "2023-06-18T10:26:28.774794Z",
     "iopub.status.busy": "2023-06-18T10:26:28.774266Z",
     "iopub.status.idle": "2023-06-18T10:26:28.785751Z",
     "shell.execute_reply": "2023-06-18T10:26:28.784313Z"
    },
    "papermill": {
     "duration": 0.026344,
     "end_time": "2023-06-18T10:26:28.788186",
     "exception": false,
     "start_time": "2023-06-18T10:26:28.761842",
     "status": "completed"
    },
    "tags": []
   },
   "outputs": [],
   "source": [
    "#extract only month from date_added column\n",
    "month = data['date_added'].values\n",
    "for j in range(len(month)):\n",
    "     month[j] = month[j].split()[0]"
   ]
  },
  {
   "cell_type": "code",
   "execution_count": 19,
   "id": "709baff6",
   "metadata": {
    "execution": {
     "iopub.execute_input": "2023-06-18T10:26:28.811534Z",
     "iopub.status.busy": "2023-06-18T10:26:28.811113Z",
     "iopub.status.idle": "2023-06-18T10:26:28.817115Z",
     "shell.execute_reply": "2023-06-18T10:26:28.815829Z"
    },
    "papermill": {
     "duration": 0.020253,
     "end_time": "2023-06-18T10:26:28.819267",
     "exception": false,
     "start_time": "2023-06-18T10:26:28.799014",
     "status": "completed"
    },
    "tags": []
   },
   "outputs": [],
   "source": [
    "#Convert array to dataframe\n",
    "month = pd.DataFrame(month, columns = ['Month'])"
   ]
  },
  {
   "cell_type": "code",
   "execution_count": 20,
   "id": "8c1545aa",
   "metadata": {
    "execution": {
     "iopub.execute_input": "2023-06-18T10:26:28.842426Z",
     "iopub.status.busy": "2023-06-18T10:26:28.841995Z",
     "iopub.status.idle": "2023-06-18T10:26:28.851089Z",
     "shell.execute_reply": "2023-06-18T10:26:28.850133Z"
    },
    "papermill": {
     "duration": 0.023261,
     "end_time": "2023-06-18T10:26:28.853236",
     "exception": false,
     "start_time": "2023-06-18T10:26:28.829975",
     "status": "completed"
    },
    "tags": []
   },
   "outputs": [],
   "source": [
    "month = month.groupby('Month').size().reset_index()"
   ]
  },
  {
   "cell_type": "code",
   "execution_count": 21,
   "id": "b3da0049",
   "metadata": {
    "execution": {
     "iopub.execute_input": "2023-06-18T10:26:28.876744Z",
     "iopub.status.busy": "2023-06-18T10:26:28.876120Z",
     "iopub.status.idle": "2023-06-18T10:26:28.886532Z",
     "shell.execute_reply": "2023-06-18T10:26:28.885290Z"
    },
    "papermill": {
     "duration": 0.024471,
     "end_time": "2023-06-18T10:26:28.888669",
     "exception": false,
     "start_time": "2023-06-18T10:26:28.864198",
     "status": "completed"
    },
    "tags": []
   },
   "outputs": [
    {
     "data": {
      "text/html": [
       "<div>\n",
       "<style scoped>\n",
       "    .dataframe tbody tr th:only-of-type {\n",
       "        vertical-align: middle;\n",
       "    }\n",
       "\n",
       "    .dataframe tbody tr th {\n",
       "        vertical-align: top;\n",
       "    }\n",
       "\n",
       "    .dataframe thead th {\n",
       "        text-align: right;\n",
       "    }\n",
       "</style>\n",
       "<table border=\"1\" class=\"dataframe\">\n",
       "  <thead>\n",
       "    <tr style=\"text-align: right;\">\n",
       "      <th></th>\n",
       "      <th>Month</th>\n",
       "      <th>0</th>\n",
       "    </tr>\n",
       "  </thead>\n",
       "  <tbody>\n",
       "    <tr>\n",
       "      <th>0</th>\n",
       "      <td>April</td>\n",
       "      <td>764</td>\n",
       "    </tr>\n",
       "    <tr>\n",
       "      <th>1</th>\n",
       "      <td>August</td>\n",
       "      <td>755</td>\n",
       "    </tr>\n",
       "    <tr>\n",
       "      <th>2</th>\n",
       "      <td>December</td>\n",
       "      <td>813</td>\n",
       "    </tr>\n",
       "    <tr>\n",
       "      <th>3</th>\n",
       "      <td>February</td>\n",
       "      <td>563</td>\n",
       "    </tr>\n",
       "    <tr>\n",
       "      <th>4</th>\n",
       "      <td>January</td>\n",
       "      <td>748</td>\n",
       "    </tr>\n",
       "    <tr>\n",
       "      <th>5</th>\n",
       "      <td>July</td>\n",
       "      <td>827</td>\n",
       "    </tr>\n",
       "    <tr>\n",
       "      <th>6</th>\n",
       "      <td>June</td>\n",
       "      <td>728</td>\n",
       "    </tr>\n",
       "    <tr>\n",
       "      <th>7</th>\n",
       "      <td>March</td>\n",
       "      <td>742</td>\n",
       "    </tr>\n",
       "    <tr>\n",
       "      <th>8</th>\n",
       "      <td>May</td>\n",
       "      <td>632</td>\n",
       "    </tr>\n",
       "    <tr>\n",
       "      <th>9</th>\n",
       "      <td>November</td>\n",
       "      <td>705</td>\n",
       "    </tr>\n",
       "    <tr>\n",
       "      <th>10</th>\n",
       "      <td>October</td>\n",
       "      <td>760</td>\n",
       "    </tr>\n",
       "    <tr>\n",
       "      <th>11</th>\n",
       "      <td>September</td>\n",
       "      <td>770</td>\n",
       "    </tr>\n",
       "  </tbody>\n",
       "</table>\n",
       "</div>"
      ],
      "text/plain": [
       "        Month    0\n",
       "0       April  764\n",
       "1      August  755\n",
       "2    December  813\n",
       "3    February  563\n",
       "4     January  748\n",
       "5        July  827\n",
       "6        June  728\n",
       "7       March  742\n",
       "8         May  632\n",
       "9    November  705\n",
       "10    October  760\n",
       "11  September  770"
      ]
     },
     "execution_count": 21,
     "metadata": {},
     "output_type": "execute_result"
    }
   ],
   "source": [
    "month"
   ]
  },
  {
   "cell_type": "code",
   "execution_count": 22,
   "id": "6ba8e771",
   "metadata": {
    "execution": {
     "iopub.execute_input": "2023-06-18T10:26:28.912822Z",
     "iopub.status.busy": "2023-06-18T10:26:28.911672Z",
     "iopub.status.idle": "2023-06-18T10:26:29.483143Z",
     "shell.execute_reply": "2023-06-18T10:26:29.482218Z"
    },
    "papermill": {
     "duration": 0.585796,
     "end_time": "2023-06-18T10:26:29.485217",
     "exception": false,
     "start_time": "2023-06-18T10:26:28.899421",
     "status": "completed"
    },
    "tags": []
   },
   "outputs": [
    {
     "data": {
      "image/png": "[encoded data removed]",
      "text/plain": [
       "<Figure size 1600x800 with 1 Axes>"
      ]
     },
     "metadata": {},
     "output_type": "display_data"
    }
   ],
   "source": [
    "plt.figure(figsize=(16,8))\n",
    "bar=sns.barplot(x=month[\"Month\"],y=month[0])\n",
    "plt.ylabel(\"TV Shows or Movies Count\")\n",
    "plt.xlabel(\"Months\")\n",
    "plt.show()"
   ]
  },
  {
   "cell_type": "markdown",
   "id": "8fa85ac8",
   "metadata": {
    "papermill": {
     "duration": 0.011403,
     "end_time": "2023-06-18T10:26:29.508801",
     "exception": false,
     "start_time": "2023-06-18T10:26:29.497398",
     "status": "completed"
    },
    "tags": []
   },
   "source": [
    "Observation\n",
    "\n",
    "Every month there is almost the same number of TV Shows or Movies added."
   ]
  },
  {
   "cell_type": "code",
   "execution_count": 23,
   "id": "d4ae1a0e",
   "metadata": {
    "execution": {
     "iopub.execute_input": "2023-06-18T10:26:29.535104Z",
     "iopub.status.busy": "2023-06-18T10:26:29.533861Z",
     "iopub.status.idle": "2023-06-18T10:26:29.545362Z",
     "shell.execute_reply": "2023-06-18T10:26:29.544011Z"
    },
    "papermill": {
     "duration": 0.027066,
     "end_time": "2023-06-18T10:26:29.547890",
     "exception": false,
     "start_time": "2023-06-18T10:26:29.520824",
     "status": "completed"
    },
    "tags": []
   },
   "outputs": [],
   "source": [
    "release_year=data.groupby(['release_year']).size().reset_index().sort_values(by = 0,ascending = False)[0:10]"
   ]
  },
  {
   "cell_type": "code",
   "execution_count": 24,
   "id": "ccc54179",
   "metadata": {
    "execution": {
     "iopub.execute_input": "2023-06-18T10:26:29.573331Z",
     "iopub.status.busy": "2023-06-18T10:26:29.572896Z",
     "iopub.status.idle": "2023-06-18T10:26:29.820169Z",
     "shell.execute_reply": "2023-06-18T10:26:29.818751Z"
    },
    "papermill": {
     "duration": 0.264643,
     "end_time": "2023-06-18T10:26:29.824364",
     "exception": false,
     "start_time": "2023-06-18T10:26:29.559721",
     "status": "completed"
    },
    "tags": []
   },
   "outputs": [
    {
     "data": {
      "text/plain": [
       "([<matplotlib.patches.Wedge at 0x783d2c695120>,\n",
       "  <matplotlib.patches.Wedge at 0x783d2c694f70>,\n",
       "  <matplotlib.patches.Wedge at 0x783d2c696800>,\n",
       "  <matplotlib.patches.Wedge at 0x783d2c697040>,\n",
       "  <matplotlib.patches.Wedge at 0x783d2c696e30>,\n",
       "  <matplotlib.patches.Wedge at 0x783d2c6bc610>,\n",
       "  <matplotlib.patches.Wedge at 0x783d2c6be290>,\n",
       "  <matplotlib.patches.Wedge at 0x783d2c6bf8b0>,\n",
       "  <matplotlib.patches.Wedge at 0x783d2c6bfe20>,\n",
       "  <matplotlib.patches.Wedge at 0x783d2c6bea40>],\n",
       " [Text(1.2494023714352367, 0.6956246935323726, '2018'),\n",
       "  Text(0.13943566096831045, 1.4231857561296526, '2017'),\n",
       "  Text(-1.041262462502589, 0.9801390126829178, '2019'),\n",
       "  Text(-1.4191735266400953, -0.17563172060853693, '2020'),\n",
       "  Text(-0.8379174328772813, -1.1587900481451967, '2016'),\n",
       "  Text(0.050975362821956006, -1.4290911490822307, '2021'),\n",
       "  Text(0.7424285418106362, -1.2221701437626975, '2015'),\n",
       "  Text(1.1630429064767076, -0.8320043255261435, '2014'),\n",
       "  Text(1.3493267696915514, -0.4735158588619427, '2013'),\n",
       "  Text(1.4221287496209387, -0.14983263830549703, '2012')],\n",
       " [Text(0.6814922026010382, 0.3794316510176577, '16.17%'),\n",
       "  Text(0.07605581507362387, 0.7762831397070832, '14.55%'),\n",
       "  Text(-0.5679613431832303, 0.5346212796452279, '14.52%'),\n",
       "  Text(-0.7740946508945974, -0.09579912033192924, '13.44%'),\n",
       "  Text(-0.457045872478517, -0.6320672989882891, '12.72%'),\n",
       "  Text(0.027804743357430547, -0.779504263135762, '8.35%'),\n",
       "  Text(0.4049610228058016, -0.6666382602341986, '7.90%'),\n",
       "  Text(0.6343870398963859, -0.45382054119607823, '4.96%'),\n",
       "  Text(0.7359964198317553, -0.2582813775610596, '4.06%'),\n",
       "  Text(0.7757065907023302, -0.0817268936211802, '3.34%')])"
      ]
     },
     "execution_count": 24,
     "metadata": {},
     "output_type": "execute_result"
    },
    {
     "data": {
      "image/png": "[encoded data removed]",
      "text/plain": [
       "<Figure size 1000x500 with 1 Axes>"
      ]
     },
     "metadata": {},
     "output_type": "display_data"
    }
   ],
   "source": [
    "plt.pie(release_year[0],labels = release_year['release_year'],autopct = '%1.2f%%',radius = 1.3)"
   ]
  },
  {
   "cell_type": "markdown",
   "id": "299b436d",
   "metadata": {
    "papermill": {
     "duration": 0.012272,
     "end_time": "2023-06-18T10:26:29.857462",
     "exception": false,
     "start_time": "2023-06-18T10:26:29.845190",
     "status": "completed"
    },
    "tags": []
   },
   "source": [
    "Observation\n",
    "\n",
    "More number of TV Shows or Movies were added in the year 2018"
   ]
  },
  {
   "cell_type": "code",
   "execution_count": 25,
   "id": "b794fbd8",
   "metadata": {
    "execution": {
     "iopub.execute_input": "2023-06-18T10:26:29.884673Z",
     "iopub.status.busy": "2023-06-18T10:26:29.884042Z",
     "iopub.status.idle": "2023-06-18T10:26:29.893187Z",
     "shell.execute_reply": "2023-06-18T10:26:29.892309Z"
    },
    "papermill": {
     "duration": 0.025244,
     "end_time": "2023-06-18T10:26:29.895499",
     "exception": false,
     "start_time": "2023-06-18T10:26:29.870255",
     "status": "completed"
    },
    "tags": []
   },
   "outputs": [],
   "source": [
    "genre = data.groupby(['rating']).size().reset_index()"
   ]
  },
  {
   "cell_type": "code",
   "execution_count": 26,
   "id": "3ae84b69",
   "metadata": {
    "execution": {
     "iopub.execute_input": "2023-06-18T10:26:29.923850Z",
     "iopub.status.busy": "2023-06-18T10:26:29.922973Z",
     "iopub.status.idle": "2023-06-18T10:26:29.934601Z",
     "shell.execute_reply": "2023-06-18T10:26:29.933488Z"
    },
    "papermill": {
     "duration": 0.028746,
     "end_time": "2023-06-18T10:26:29.937010",
     "exception": false,
     "start_time": "2023-06-18T10:26:29.908264",
     "status": "completed"
    },
    "tags": []
   },
   "outputs": [
    {
     "data": {
      "text/html": [
       "<div>\n",
       "<style scoped>\n",
       "    .dataframe tbody tr th:only-of-type {\n",
       "        vertical-align: middle;\n",
       "    }\n",
       "\n",
       "    .dataframe tbody tr th {\n",
       "        vertical-align: top;\n",
       "    }\n",
       "\n",
       "    .dataframe thead th {\n",
       "        text-align: right;\n",
       "    }\n",
       "</style>\n",
       "<table border=\"1\" class=\"dataframe\">\n",
       "  <thead>\n",
       "    <tr style=\"text-align: right;\">\n",
       "      <th></th>\n",
       "      <th>rating</th>\n",
       "      <th>0</th>\n",
       "    </tr>\n",
       "  </thead>\n",
       "  <tbody>\n",
       "    <tr>\n",
       "      <th>0</th>\n",
       "      <td>66 min</td>\n",
       "      <td>1</td>\n",
       "    </tr>\n",
       "    <tr>\n",
       "      <th>1</th>\n",
       "      <td>74 min</td>\n",
       "      <td>1</td>\n",
       "    </tr>\n",
       "    <tr>\n",
       "      <th>2</th>\n",
       "      <td>84 min</td>\n",
       "      <td>1</td>\n",
       "    </tr>\n",
       "    <tr>\n",
       "      <th>3</th>\n",
       "      <td>G</td>\n",
       "      <td>41</td>\n",
       "    </tr>\n",
       "    <tr>\n",
       "      <th>4</th>\n",
       "      <td>NC-17</td>\n",
       "      <td>3</td>\n",
       "    </tr>\n",
       "    <tr>\n",
       "      <th>5</th>\n",
       "      <td>NR</td>\n",
       "      <td>80</td>\n",
       "    </tr>\n",
       "    <tr>\n",
       "      <th>6</th>\n",
       "      <td>PG</td>\n",
       "      <td>287</td>\n",
       "    </tr>\n",
       "    <tr>\n",
       "      <th>7</th>\n",
       "      <td>PG-13</td>\n",
       "      <td>490</td>\n",
       "    </tr>\n",
       "    <tr>\n",
       "      <th>8</th>\n",
       "      <td>R</td>\n",
       "      <td>799</td>\n",
       "    </tr>\n",
       "    <tr>\n",
       "      <th>9</th>\n",
       "      <td>TV-14</td>\n",
       "      <td>2160</td>\n",
       "    </tr>\n",
       "    <tr>\n",
       "      <th>10</th>\n",
       "      <td>TV-G</td>\n",
       "      <td>220</td>\n",
       "    </tr>\n",
       "    <tr>\n",
       "      <th>11</th>\n",
       "      <td>TV-MA</td>\n",
       "      <td>3211</td>\n",
       "    </tr>\n",
       "    <tr>\n",
       "      <th>12</th>\n",
       "      <td>TV-PG</td>\n",
       "      <td>863</td>\n",
       "    </tr>\n",
       "    <tr>\n",
       "      <th>13</th>\n",
       "      <td>TV-Y</td>\n",
       "      <td>307</td>\n",
       "    </tr>\n",
       "    <tr>\n",
       "      <th>14</th>\n",
       "      <td>TV-Y7</td>\n",
       "      <td>334</td>\n",
       "    </tr>\n",
       "    <tr>\n",
       "      <th>15</th>\n",
       "      <td>TV-Y7-FV</td>\n",
       "      <td>6</td>\n",
       "    </tr>\n",
       "    <tr>\n",
       "      <th>16</th>\n",
       "      <td>UR</td>\n",
       "      <td>3</td>\n",
       "    </tr>\n",
       "  </tbody>\n",
       "</table>\n",
       "</div>"
      ],
      "text/plain": [
       "      rating     0\n",
       "0     66 min     1\n",
       "1     74 min     1\n",
       "2     84 min     1\n",
       "3          G    41\n",
       "4      NC-17     3\n",
       "5         NR    80\n",
       "6         PG   287\n",
       "7      PG-13   490\n",
       "8          R   799\n",
       "9      TV-14  2160\n",
       "10      TV-G   220\n",
       "11     TV-MA  3211\n",
       "12     TV-PG   863\n",
       "13      TV-Y   307\n",
       "14     TV-Y7   334\n",
       "15  TV-Y7-FV     6\n",
       "16        UR     3"
      ]
     },
     "execution_count": 26,
     "metadata": {},
     "output_type": "execute_result"
    }
   ],
   "source": [
    "genre"
   ]
  },
  {
   "cell_type": "code",
   "execution_count": 27,
   "id": "1260756a",
   "metadata": {
    "execution": {
     "iopub.execute_input": "2023-06-18T10:26:29.971033Z",
     "iopub.status.busy": "2023-06-18T10:26:29.970538Z",
     "iopub.status.idle": "2023-06-18T10:26:31.831216Z",
     "shell.execute_reply": "2023-06-18T10:26:31.829826Z"
    },
    "papermill": {
     "duration": 1.884501,
     "end_time": "2023-06-18T10:26:31.834464",
     "exception": false,
     "start_time": "2023-06-18T10:26:29.949963",
     "status": "completed"
    },
    "tags": []
   },
   "outputs": [
    {
     "data": {
      "text/html": [
       "        <script type=\"text/javascript\">\n",
       "        window.PlotlyConfig = {MathJaxConfig: 'local'};\n",
       "        if (window.MathJax && window.MathJax.Hub && window.MathJax.Hub.Config) {window.MathJax.Hub.Config({SVG: {font: \"STIX-Web\"}});}\n",
       "        if (typeof require !== 'undefined') {\n",
       "        require.undef(\"plotly\");\n",
       "        requirejs.config({\n",
       "            paths: {\n",
       "                'plotly': ['https://cdn.plot.ly/plotly-2.20.0.min']\n",
       "            }\n",
       "        });\n",
       "        require(['plotly'], function(Plotly) {\n",
       "            window._Plotly = Plotly;\n",
       "        });\n",
       "        }\n",
       "        </script>\n",
       "        "
      ]
     },
     "metadata": {},
     "output_type": "display_data"
    },
    {
     "data": {
      "text/html": [
       "<div>                            <div id=\"f9deaa25-2e2f-4aa0-a9ad-d45b6bb1f9f2\" class=\"plotly-graph-div\" style=\"height:525px; width:100%;\"></div>            <script type=\"text/javascript\">                require([\"plotly\"], function(Plotly) {                    window.PLOTLYENV=window.PLOTLYENV || {};                                    if (document.getElementById(\"f9deaa25-2e2f-4aa0-a9ad-d45b6bb1f9f2\")) {                    Plotly.newPlot(                        \"f9deaa25-2e2f-4aa0-a9ad-d45b6bb1f9f2\",                        [{\"domain\":{\"x\":[0.0,1.0],\"y\":[0.0,1.0]},\"hovertemplate\":\"rating=%{label}<br>0=%{value}<extra></extra>\",\"labels\":[\"66 min\",\"74 min\",\"84 min\",\"G\",\"NC-17\",\"NR\",\"PG\",\"PG-13\",\"R\",\"TV-14\",\"TV-G\",\"TV-MA\",\"TV-PG\",\"TV-Y\",\"TV-Y7\",\"TV-Y7-FV\",\"UR\"],\"legendgroup\":\"\",\"name\":\"\",\"showlegend\":true,\"values\":[1,1,1,41,3,80,287,490,799,2160,220,3211,863,307,334,6,3],\"type\":\"pie\"}],                        {\"template\":{\"data\":{\"histogram2dcontour\":[{\"type\":\"histogram2dcontour\",\"colorbar\":{\"outlinewidth\":0,\"ticks\":\"\"},\"colorscale\":[[0.0,\"#0d0887\"],[0.1111111111111111,\"#46039f\"],[0.2222222222222222,\"#7201a8\"],[0.3333333333333333,\"#9c179e\"],[0.4444444444444444,\"#bd3786\"],[0.5555555555555556,\"#d8576b\"],[0.6666666666666666,\"#ed7953\"],[0.7777777777777778,\"#fb9f3a\"],[0.8888888888888888,\"#fdca26\"],[1.0,\"#f0f921\"]]}],\"choropleth\":[{\"type\":\"choropleth\",\"colorbar\":{\"outlinewidth\":0,\"ticks\":\"\"}}],\"histogram2d\":[{\"type\":\"histogram2d\",\"colorbar\":{\"outlinewidth\":0,\"ticks\":\"\"},\"colorscale\":[[0.0,\"#0d0887\"],[0.1111111111111111,\"#46039f\"],[0.2222222222222222,\"#7201a8\"],[0.3333333333333333,\"#9c179e\"],[0.4444444444444444,\"#bd3786\"],[0.5555555555555556,\"#d8576b\"],[0.6666666666666666,\"#ed7953\"],[0.7777777777777778,\"#fb9f3a\"],[0.8888888888888888,\"#fdca26\"],[1.0,\"#f0f921\"]]}],\"heatmap\":[{\"type\":\"heatmap\",\"colorbar\":{\"outlinewidth\":0,\"ticks\":\"\"},\"colorscale\":[[0.0,\"#0d0887\"],[0.1111111111111111,\"#46039f\"],[0.2222222222222222,\"#7201a8\"],[0.3333333333333333,\"#9c179e\"],[0.4444444444444444,\"#bd3786\"],[0.5555555555555556,\"#d8576b\"],[0.6666666666666666,\"#ed7953\"],[0.7777777777777778,\"#fb9f3a\"],[0.8888888888888888,\"#fdca26\"],[1.0,\"#f0f921\"]]}],\"heatmapgl\":[{\"type\":\"heatmapgl\",\"colorbar\":{\"outlinewidth\":0,\"ticks\":\"\"},\"colorscale\":[[0.0,\"#0d0887\"],[0.1111111111111111,\"#46039f\"],[0.2222222222222222,\"#7201a8\"],[0.3333333333333333,\"#9c179e\"],[0.4444444444444444,\"#bd3786\"],[0.5555555555555556,\"#d8576b\"],[0.6666666666666666,\"#ed7953\"],[0.7777777777777778,\"#fb9f3a\"],[0.8888888888888888,\"#fdca26\"],[1.0,\"#f0f921\"]]}],\"contourcarpet\":[{\"type\":\"contourcarpet\",\"colorbar\":{\"outlinewidth\":0,\"ticks\":\"\"}}],\"contour\":[{\"type\":\"contour\",\"colorbar\":{\"outlinewidth\":0,\"ticks\":\"\"},\"colorscale\":[[0.0,\"#0d0887\"],[0.1111111111111111,\"#46039f\"],[0.2222222222222222,\"#7201a8\"],[0.3333333333333333,\"#9c179e\"],[0.4444444444444444,\"#bd3786\"],[0.5555555555555556,\"#d8576b\"],[0.6666666666666666,\"#ed7953\"],[0.7777777777777778,\"#fb9f3a\"],[0.8888888888888888,\"#fdca26\"],[1.0,\"#f0f921\"]]}],\"surface\":[{\"type\":\"surface\",\"colorbar\":{\"outlinewidth\":0,\"ticks\":\"\"},\"colorscale\":[[0.0,\"#0d0887\"],[0.1111111111111111,\"#46039f\"],[0.2222222222222222,\"#7201a8\"],[0.3333333333333333,\"#9c179e\"],[0.4444444444444444,\"#bd3786\"],[0.5555555555555556,\"#d8576b\"],[0.6666666666666666,\"#ed7953\"],[0.7777777777777778,\"#fb9f3a\"],[0.8888888888888888,\"#fdca26\"],[1.0,\"#f0f921\"]]}],\"mesh3d\":[{\"type\":\"mesh3d\",\"colorbar\":{\"outlinewidth\":0,\"ticks\":\"\"}}],\"scatter\":[{\"fillpattern\":{\"fillmode\":\"overlay\",\"size\":10,\"solidity\":0.2},\"type\":\"scatter\"}],\"parcoords\":[{\"type\":\"parcoords\",\"line\":{\"colorbar\":{\"outlinewidth\":0,\"ticks\":\"\"}}}],\"scatterpolargl\":[{\"type\":\"scatterpolargl\",\"marker\":{\"colorbar\":{\"outlinewidth\":0,\"ticks\":\"\"}}}],\"bar\":[{\"error_x\":{\"color\":\"#2a3f5f\"},\"error_y\":{\"color\":\"#2a3f5f\"},\"marker\":{\"line\":{\"color\":\"#E5ECF6\",\"width\":0.5},\"pattern\":{\"fillmode\":\"overlay\",\"size\":10,\"solidity\":0.2}},\"type\":\"bar\"}],\"scattergeo\":[{\"type\":\"scattergeo\",\"marker\":{\"colorbar\":{\"outlinewidth\":0,\"ticks\":\"\"}}}],\"scatterpolar\":[{\"type\":\"scatterpolar\",\"marker\":{\"colorbar\":{\"outlinewidth\":0,\"ticks\":\"\"}}}],\"histogram\":[{\"marker\":{\"pattern\":{\"fillmode\":\"overlay\",\"size\":10,\"solidity\":0.2}},\"type\":\"histogram\"}],\"scattergl\":[{\"type\":\"scattergl\",\"marker\":{\"colorbar\":{\"outlinewidth\":0,\"ticks\":\"\"}}}],\"scatter3d\":[{\"type\":\"scatter3d\",\"line\":{\"colorbar\":{\"outlinewidth\":0,\"ticks\":\"\"}},\"marker\":{\"colorbar\":{\"outlinewidth\":0,\"ticks\":\"\"}}}],\"scattermapbox\":[{\"type\":\"scattermapbox\",\"marker\":{\"colorbar\":{\"outlinewidth\":0,\"ticks\":\"\"}}}],\"scatterternary\":[{\"type\":\"scatterternary\",\"marker\":{\"colorbar\":{\"outlinewidth\":0,\"ticks\":\"\"}}}],\"scattercarpet\":[{\"type\":\"scattercarpet\",\"marker\":{\"colorbar\":{\"outlinewidth\":0,\"ticks\":\"\"}}}],\"carpet\":[{\"aaxis\":{\"endlinecolor\":\"#2a3f5f\",\"gridcolor\":\"white\",\"linecolor\":\"white\",\"minorgridcolor\":\"white\",\"startlinecolor\":\"#2a3f5f\"},\"baxis\":{\"endlinecolor\":\"#2a3f5f\",\"gridcolor\":\"white\",\"linecolor\":\"white\",\"minorgridcolor\":\"white\",\"startlinecolor\":\"#2a3f5f\"},\"type\":\"carpet\"}],\"table\":[{\"cells\":{\"fill\":{\"color\":\"#EBF0F8\"},\"line\":{\"color\":\"white\"}},\"header\":{\"fill\":{\"color\":\"#C8D4E3\"},\"line\":{\"color\":\"white\"}},\"type\":\"table\"}],\"barpolar\":[{\"marker\":{\"line\":{\"color\":\"#E5ECF6\",\"width\":0.5},\"pattern\":{\"fillmode\":\"overlay\",\"size\":10,\"solidity\":0.2}},\"type\":\"barpolar\"}],\"pie\":[{\"automargin\":true,\"type\":\"pie\"}]},\"layout\":{\"autotypenumbers\":\"strict\",\"colorway\":[\"#636efa\",\"#EF553B\",\"#00cc96\",\"#ab63fa\",\"#FFA15A\",\"#19d3f3\",\"#FF6692\",\"#B6E880\",\"#FF97FF\",\"#FECB52\"],\"font\":{\"color\":\"#2a3f5f\"},\"hovermode\":\"closest\",\"hoverlabel\":{\"align\":\"left\"},\"paper_bgcolor\":\"white\",\"plot_bgcolor\":\"#E5ECF6\",\"polar\":{\"bgcolor\":\"#E5ECF6\",\"angularaxis\":{\"gridcolor\":\"white\",\"linecolor\":\"white\",\"ticks\":\"\"},\"radialaxis\":{\"gridcolor\":\"white\",\"linecolor\":\"white\",\"ticks\":\"\"}},\"ternary\":{\"bgcolor\":\"#E5ECF6\",\"aaxis\":{\"gridcolor\":\"white\",\"linecolor\":\"white\",\"ticks\":\"\"},\"baxis\":{\"gridcolor\":\"white\",\"linecolor\":\"white\",\"ticks\":\"\"},\"caxis\":{\"gridcolor\":\"white\",\"linecolor\":\"white\",\"ticks\":\"\"}},\"coloraxis\":{\"colorbar\":{\"outlinewidth\":0,\"ticks\":\"\"}},\"colorscale\":{\"sequential\":[[0.0,\"#0d0887\"],[0.1111111111111111,\"#46039f\"],[0.2222222222222222,\"#7201a8\"],[0.3333333333333333,\"#9c179e\"],[0.4444444444444444,\"#bd3786\"],[0.5555555555555556,\"#d8576b\"],[0.6666666666666666,\"#ed7953\"],[0.7777777777777778,\"#fb9f3a\"],[0.8888888888888888,\"#fdca26\"],[1.0,\"#f0f921\"]],\"sequentialminus\":[[0.0,\"#0d0887\"],[0.1111111111111111,\"#46039f\"],[0.2222222222222222,\"#7201a8\"],[0.3333333333333333,\"#9c179e\"],[0.4444444444444444,\"#bd3786\"],[0.5555555555555556,\"#d8576b\"],[0.6666666666666666,\"#ed7953\"],[0.7777777777777778,\"#fb9f3a\"],[0.8888888888888888,\"#fdca26\"],[1.0,\"#f0f921\"]],\"diverging\":[[0,\"#8e0152\"],[0.1,\"#c51b7d\"],[0.2,\"#de77ae\"],[0.3,\"#f1b6da\"],[0.4,\"#fde0ef\"],[0.5,\"#f7f7f7\"],[0.6,\"#e6f5d0\"],[0.7,\"#b8e186\"],[0.8,\"#7fbc41\"],[0.9,\"#4d9221\"],[1,\"#276419\"]]},\"xaxis\":{\"gridcolor\":\"white\",\"linecolor\":\"white\",\"ticks\":\"\",\"title\":{\"standoff\":15},\"zerolinecolor\":\"white\",\"automargin\":true,\"zerolinewidth\":2},\"yaxis\":{\"gridcolor\":\"white\",\"linecolor\":\"white\",\"ticks\":\"\",\"title\":{\"standoff\":15},\"zerolinecolor\":\"white\",\"automargin\":true,\"zerolinewidth\":2},\"scene\":{\"xaxis\":{\"backgroundcolor\":\"#E5ECF6\",\"gridcolor\":\"white\",\"linecolor\":\"white\",\"showbackground\":true,\"ticks\":\"\",\"zerolinecolor\":\"white\",\"gridwidth\":2},\"yaxis\":{\"backgroundcolor\":\"#E5ECF6\",\"gridcolor\":\"white\",\"linecolor\":\"white\",\"showbackground\":true,\"ticks\":\"\",\"zerolinecolor\":\"white\",\"gridwidth\":2},\"zaxis\":{\"backgroundcolor\":\"#E5ECF6\",\"gridcolor\":\"white\",\"linecolor\":\"white\",\"showbackground\":true,\"ticks\":\"\",\"zerolinecolor\":\"white\",\"gridwidth\":2}},\"shapedefaults\":{\"line\":{\"color\":\"#2a3f5f\"}},\"annotationdefaults\":{\"arrowcolor\":\"#2a3f5f\",\"arrowhead\":0,\"arrowwidth\":1},\"geo\":{\"bgcolor\":\"white\",\"landcolor\":\"#E5ECF6\",\"subunitcolor\":\"white\",\"showland\":true,\"showlakes\":true,\"lakecolor\":\"white\"},\"title\":{\"x\":0.05},\"mapbox\":{\"style\":\"light\"}}},\"legend\":{\"tracegroupgap\":0},\"margin\":{\"t\":60}},                        {\"responsive\": true}                    ).then(function(){\n",
       "                            \n",
       "var gd = document.getElementById('f9deaa25-2e2f-4aa0-a9ad-d45b6bb1f9f2');\n",
       "var x = new MutationObserver(function (mutations, observer) {{\n",
       "        var display = window.getComputedStyle(gd).display;\n",
       "        if (!display || display === 'none') {{\n",
       "            console.log([gd, 'removed!']);\n",
       "            Plotly.purge(gd);\n",
       "            observer.disconnect();\n",
       "        }}\n",
       "}});\n",
       "\n",
       "// Listen for the removal of the full notebook cells\n",
       "var notebookContainer = gd.closest('#notebook-container');\n",
       "if (notebookContainer) {{\n",
       "    x.observe(notebookContainer, {childList: true});\n",
       "}}\n",
       "\n",
       "// Listen for the clearing of the current output cell\n",
       "var outputEl = gd.closest('.output');\n",
       "if (outputEl) {{\n",
       "    x.observe(outputEl, {childList: true});\n",
       "}}\n",
       "\n",
       "                        })                };                });            </script>        </div>"
      ]
     },
     "metadata": {},
     "output_type": "display_data"
    }
   ],
   "source": [
    "px.pie(genre,names=genre['rating'],values=genre[0])"
   ]
  },
  {
   "cell_type": "markdown",
   "id": "6a9e0b19",
   "metadata": {
    "papermill": {
     "duration": 0.013101,
     "end_time": "2023-06-18T10:26:31.861515",
     "exception": false,
     "start_time": "2023-06-18T10:26:31.848414",
     "status": "completed"
    },
    "tags": []
   },
   "source": [
    "Observation\n",
    "\n",
    "34.1% of TV Shows or Movies is of type 'Mature audience'"
   ]
  },
  {
   "cell_type": "code",
   "execution_count": null,
   "id": "4e2ba363",
   "metadata": {
    "papermill": {
     "duration": 0.013367,
     "end_time": "2023-06-18T10:26:31.888283",
     "exception": false,
     "start_time": "2023-06-18T10:26:31.874916",
     "status": "completed"
    },
    "tags": []
   },
   "outputs": [],
   "source": []
  }
 ],
 "metadata": {
  "kernelspec": {
   "display_name": "Python 3",
   "language": "python",
   "name": "python3"
  },
  "language_info": {
   "codemirror_mode": {
    "name": "ipython",
    "version": 3
   },
   "file_extension": ".py",
   "mimetype": "text/x-python",
   "name": "python",
   "nbconvert_exporter": "python",
   "pygments_lexer": "ipython3",
   "version": "3.10.10"
  },
  "papermill": {
   "default_parameters": {},
   "duration": 20.539114,
   "end_time": "2023-06-18T10:26:33.429807",
   "environment_variables": {},
   "exception": null,
   "input_path": "__notebook__.ipynb",
   "output_path": "__notebook__.ipynb",
   "parameters": {},
   "start_time": "2023-06-18T10:26:12.890693",
   "version": "2.4.0"
  }
 },
 "nbformat": 4,
 "nbformat_minor": 5
}
